{
 "cells": [
  {
   "cell_type": "markdown",
   "metadata": {},
   "source": [
    "Phase-2 Challa Venkata Raghava Reddy(AM.EN.U4CSE17506)"
   ]
  },
  {
   "cell_type": "markdown",
   "metadata": {},
   "source": [
    "Data Preprocessing"
   ]
  },
  {
   "cell_type": "code",
   "execution_count": 1,
   "metadata": {},
   "outputs": [],
   "source": [
    "import pandas as pd \n",
    "import numpy as np\n",
    "from sklearn.model_selection import train_test_split\n",
    "from sklearn.preprocessing import LabelEncoder, StandardScaler\n",
    "from sklearn.model_selection import RepeatedKFold\n",
    "from sklearn.linear_model import LogisticRegression\n",
    "from sklearn import svm\n",
    "import matplotlib.pyplot as plt\n"
   ]
  },
  {
   "cell_type": "code",
   "execution_count": 2,
   "metadata": {},
   "outputs": [
    {
     "data": {
      "text/html": [
       "<div>\n",
       "<style scoped>\n",
       "    .dataframe tbody tr th:only-of-type {\n",
       "        vertical-align: middle;\n",
       "    }\n",
       "\n",
       "    .dataframe tbody tr th {\n",
       "        vertical-align: top;\n",
       "    }\n",
       "\n",
       "    .dataframe thead th {\n",
       "        text-align: right;\n",
       "    }\n",
       "</style>\n",
       "<table border=\"1\" class=\"dataframe\">\n",
       "  <thead>\n",
       "    <tr style=\"text-align: right;\">\n",
       "      <th></th>\n",
       "      <th>chroma_stft</th>\n",
       "      <th>rmse</th>\n",
       "      <th>spectral_centroid</th>\n",
       "      <th>spectral_bandwidth</th>\n",
       "      <th>rolloff</th>\n",
       "      <th>zero_crossing_rate</th>\n",
       "      <th>mfcc1</th>\n",
       "      <th>mfcc2</th>\n",
       "      <th>mfcc3</th>\n",
       "      <th>mfcc4</th>\n",
       "      <th>...</th>\n",
       "      <th>mfcc11</th>\n",
       "      <th>mfcc12</th>\n",
       "      <th>mfcc13</th>\n",
       "      <th>mfcc14</th>\n",
       "      <th>mfcc15</th>\n",
       "      <th>mfcc16</th>\n",
       "      <th>mfcc17</th>\n",
       "      <th>mfcc18</th>\n",
       "      <th>mfcc19</th>\n",
       "      <th>mfcc20</th>\n",
       "    </tr>\n",
       "  </thead>\n",
       "  <tbody>\n",
       "    <tr>\n",
       "      <th>count</th>\n",
       "      <td>2253.000000</td>\n",
       "      <td>2253.000000</td>\n",
       "      <td>2253.000000</td>\n",
       "      <td>2253.000000</td>\n",
       "      <td>2253.000000</td>\n",
       "      <td>2253.000000</td>\n",
       "      <td>2253.000000</td>\n",
       "      <td>2253.000000</td>\n",
       "      <td>2253.000000</td>\n",
       "      <td>2253.000000</td>\n",
       "      <td>...</td>\n",
       "      <td>2253.000000</td>\n",
       "      <td>2253.000000</td>\n",
       "      <td>2253.000000</td>\n",
       "      <td>2253.000000</td>\n",
       "      <td>2253.000000</td>\n",
       "      <td>2253.000000</td>\n",
       "      <td>2253.000000</td>\n",
       "      <td>2253.000000</td>\n",
       "      <td>2253.000000</td>\n",
       "      <td>2253.000000</td>\n",
       "    </tr>\n",
       "    <tr>\n",
       "      <th>mean</th>\n",
       "      <td>0.398261</td>\n",
       "      <td>0.182655</td>\n",
       "      <td>2253.240990</td>\n",
       "      <td>2412.788845</td>\n",
       "      <td>4786.240981</td>\n",
       "      <td>0.099300</td>\n",
       "      <td>-95.350405</td>\n",
       "      <td>93.234543</td>\n",
       "      <td>3.180337</td>\n",
       "      <td>29.969730</td>\n",
       "      <td>...</td>\n",
       "      <td>-3.000571</td>\n",
       "      <td>3.566554</td>\n",
       "      <td>-3.272050</td>\n",
       "      <td>1.695272</td>\n",
       "      <td>-3.608310</td>\n",
       "      <td>1.987763</td>\n",
       "      <td>-4.959487</td>\n",
       "      <td>1.503436</td>\n",
       "      <td>-3.475424</td>\n",
       "      <td>0.444395</td>\n",
       "    </tr>\n",
       "    <tr>\n",
       "      <th>std</th>\n",
       "      <td>0.067704</td>\n",
       "      <td>0.069445</td>\n",
       "      <td>575.905443</td>\n",
       "      <td>358.525522</td>\n",
       "      <td>1227.658555</td>\n",
       "      <td>0.037528</td>\n",
       "      <td>78.892086</td>\n",
       "      <td>26.072126</td>\n",
       "      <td>18.563118</td>\n",
       "      <td>11.858267</td>\n",
       "      <td>...</td>\n",
       "      <td>5.234076</td>\n",
       "      <td>4.634705</td>\n",
       "      <td>4.778654</td>\n",
       "      <td>4.277236</td>\n",
       "      <td>4.194486</td>\n",
       "      <td>4.189078</td>\n",
       "      <td>4.002450</td>\n",
       "      <td>3.719920</td>\n",
       "      <td>3.858484</td>\n",
       "      <td>3.943404</td>\n",
       "    </tr>\n",
       "    <tr>\n",
       "      <th>min</th>\n",
       "      <td>0.196276</td>\n",
       "      <td>0.020729</td>\n",
       "      <td>408.323032</td>\n",
       "      <td>517.150538</td>\n",
       "      <td>623.445769</td>\n",
       "      <td>0.016846</td>\n",
       "      <td>-514.132300</td>\n",
       "      <td>22.072756</td>\n",
       "      <td>-91.221390</td>\n",
       "      <td>-39.216022</td>\n",
       "      <td>...</td>\n",
       "      <td>-32.792435</td>\n",
       "      <td>-15.513402</td>\n",
       "      <td>-33.918747</td>\n",
       "      <td>-18.316100</td>\n",
       "      <td>-19.641539</td>\n",
       "      <td>-13.582519</td>\n",
       "      <td>-20.893114</td>\n",
       "      <td>-14.965501</td>\n",
       "      <td>-22.041351</td>\n",
       "      <td>-22.211124</td>\n",
       "    </tr>\n",
       "    <tr>\n",
       "      <th>25%</th>\n",
       "      <td>0.353577</td>\n",
       "      <td>0.130321</td>\n",
       "      <td>1885.238833</td>\n",
       "      <td>2241.329341</td>\n",
       "      <td>4073.223680</td>\n",
       "      <td>0.072378</td>\n",
       "      <td>-141.782380</td>\n",
       "      <td>76.029850</td>\n",
       "      <td>-9.005164</td>\n",
       "      <td>22.872723</td>\n",
       "      <td>...</td>\n",
       "      <td>-5.918273</td>\n",
       "      <td>0.770960</td>\n",
       "      <td>-6.074555</td>\n",
       "      <td>-0.812800</td>\n",
       "      <td>-6.113290</td>\n",
       "      <td>-0.583220</td>\n",
       "      <td>-7.371390</td>\n",
       "      <td>-0.735274</td>\n",
       "      <td>-5.832087</td>\n",
       "      <td>-2.000330</td>\n",
       "    </tr>\n",
       "    <tr>\n",
       "      <th>50%</th>\n",
       "      <td>0.402700</td>\n",
       "      <td>0.183613</td>\n",
       "      <td>2288.810240</td>\n",
       "      <td>2456.737163</td>\n",
       "      <td>4897.637743</td>\n",
       "      <td>0.096127</td>\n",
       "      <td>-86.119060</td>\n",
       "      <td>90.838844</td>\n",
       "      <td>3.007377</td>\n",
       "      <td>29.965761</td>\n",
       "      <td>...</td>\n",
       "      <td>-2.653530</td>\n",
       "      <td>3.826097</td>\n",
       "      <td>-3.138969</td>\n",
       "      <td>1.871515</td>\n",
       "      <td>-3.459018</td>\n",
       "      <td>2.125868</td>\n",
       "      <td>-5.042531</td>\n",
       "      <td>1.591153</td>\n",
       "      <td>-3.456106</td>\n",
       "      <td>0.623038</td>\n",
       "    </tr>\n",
       "    <tr>\n",
       "      <th>75%</th>\n",
       "      <td>0.443067</td>\n",
       "      <td>0.230546</td>\n",
       "      <td>2625.317658</td>\n",
       "      <td>2640.072834</td>\n",
       "      <td>5611.954621</td>\n",
       "      <td>0.122646</td>\n",
       "      <td>-39.258070</td>\n",
       "      <td>108.255680</td>\n",
       "      <td>14.930601</td>\n",
       "      <td>37.065273</td>\n",
       "      <td>...</td>\n",
       "      <td>0.449232</td>\n",
       "      <td>6.506954</td>\n",
       "      <td>-0.229908</td>\n",
       "      <td>4.402675</td>\n",
       "      <td>-0.915010</td>\n",
       "      <td>4.928226</td>\n",
       "      <td>-2.501780</td>\n",
       "      <td>3.852726</td>\n",
       "      <td>-0.914963</td>\n",
       "      <td>3.034174</td>\n",
       "    </tr>\n",
       "    <tr>\n",
       "      <th>max</th>\n",
       "      <td>0.638385</td>\n",
       "      <td>0.467611</td>\n",
       "      <td>4065.463745</td>\n",
       "      <td>3207.019225</td>\n",
       "      <td>7878.497905</td>\n",
       "      <td>0.270357</td>\n",
       "      <td>86.573350</td>\n",
       "      <td>229.162580</td>\n",
       "      <td>77.668670</td>\n",
       "      <td>87.347565</td>\n",
       "      <td>...</td>\n",
       "      <td>14.776793</td>\n",
       "      <td>21.007347</td>\n",
       "      <td>16.919920</td>\n",
       "      <td>23.755932</td>\n",
       "      <td>13.283786</td>\n",
       "      <td>15.498725</td>\n",
       "      <td>13.359570</td>\n",
       "      <td>20.667809</td>\n",
       "      <td>18.525902</td>\n",
       "      <td>16.323227</td>\n",
       "    </tr>\n",
       "  </tbody>\n",
       "</table>\n",
       "<p>8 rows × 26 columns</p>\n",
       "</div>"
      ],
      "text/plain": [
       "       chroma_stft         rmse  spectral_centroid  spectral_bandwidth  \\\n",
       "count  2253.000000  2253.000000        2253.000000         2253.000000   \n",
       "mean      0.398261     0.182655        2253.240990         2412.788845   \n",
       "std       0.067704     0.069445         575.905443          358.525522   \n",
       "min       0.196276     0.020729         408.323032          517.150538   \n",
       "25%       0.353577     0.130321        1885.238833         2241.329341   \n",
       "50%       0.402700     0.183613        2288.810240         2456.737163   \n",
       "75%       0.443067     0.230546        2625.317658         2640.072834   \n",
       "max       0.638385     0.467611        4065.463745         3207.019225   \n",
       "\n",
       "           rolloff  zero_crossing_rate        mfcc1        mfcc2        mfcc3  \\\n",
       "count  2253.000000         2253.000000  2253.000000  2253.000000  2253.000000   \n",
       "mean   4786.240981            0.099300   -95.350405    93.234543     3.180337   \n",
       "std    1227.658555            0.037528    78.892086    26.072126    18.563118   \n",
       "min     623.445769            0.016846  -514.132300    22.072756   -91.221390   \n",
       "25%    4073.223680            0.072378  -141.782380    76.029850    -9.005164   \n",
       "50%    4897.637743            0.096127   -86.119060    90.838844     3.007377   \n",
       "75%    5611.954621            0.122646   -39.258070   108.255680    14.930601   \n",
       "max    7878.497905            0.270357    86.573350   229.162580    77.668670   \n",
       "\n",
       "             mfcc4  ...       mfcc11       mfcc12       mfcc13       mfcc14  \\\n",
       "count  2253.000000  ...  2253.000000  2253.000000  2253.000000  2253.000000   \n",
       "mean     29.969730  ...    -3.000571     3.566554    -3.272050     1.695272   \n",
       "std      11.858267  ...     5.234076     4.634705     4.778654     4.277236   \n",
       "min     -39.216022  ...   -32.792435   -15.513402   -33.918747   -18.316100   \n",
       "25%      22.872723  ...    -5.918273     0.770960    -6.074555    -0.812800   \n",
       "50%      29.965761  ...    -2.653530     3.826097    -3.138969     1.871515   \n",
       "75%      37.065273  ...     0.449232     6.506954    -0.229908     4.402675   \n",
       "max      87.347565  ...    14.776793    21.007347    16.919920    23.755932   \n",
       "\n",
       "            mfcc15       mfcc16       mfcc17       mfcc18       mfcc19  \\\n",
       "count  2253.000000  2253.000000  2253.000000  2253.000000  2253.000000   \n",
       "mean     -3.608310     1.987763    -4.959487     1.503436    -3.475424   \n",
       "std       4.194486     4.189078     4.002450     3.719920     3.858484   \n",
       "min     -19.641539   -13.582519   -20.893114   -14.965501   -22.041351   \n",
       "25%      -6.113290    -0.583220    -7.371390    -0.735274    -5.832087   \n",
       "50%      -3.459018     2.125868    -5.042531     1.591153    -3.456106   \n",
       "75%      -0.915010     4.928226    -2.501780     3.852726    -0.914963   \n",
       "max      13.283786    15.498725    13.359570    20.667809    18.525902   \n",
       "\n",
       "            mfcc20  \n",
       "count  2253.000000  \n",
       "mean      0.444395  \n",
       "std       3.943404  \n",
       "min     -22.211124  \n",
       "25%      -2.000330  \n",
       "50%       0.623038  \n",
       "75%       3.034174  \n",
       "max      16.323227  \n",
       "\n",
       "[8 rows x 26 columns]"
      ]
     },
     "execution_count": 2,
     "metadata": {},
     "output_type": "execute_result"
    }
   ],
   "source": [
    "data = pd.read_csv('fdata.csv')\n",
    "data.describe()"
   ]
  },
  {
   "cell_type": "code",
   "execution_count": 3,
   "metadata": {},
   "outputs": [
    {
     "data": {
      "text/html": [
       "<div>\n",
       "<style scoped>\n",
       "    .dataframe tbody tr th:only-of-type {\n",
       "        vertical-align: middle;\n",
       "    }\n",
       "\n",
       "    .dataframe tbody tr th {\n",
       "        vertical-align: top;\n",
       "    }\n",
       "\n",
       "    .dataframe thead th {\n",
       "        text-align: right;\n",
       "    }\n",
       "</style>\n",
       "<table border=\"1\" class=\"dataframe\">\n",
       "  <thead>\n",
       "    <tr style=\"text-align: right;\">\n",
       "      <th></th>\n",
       "      <th>chroma_stft</th>\n",
       "      <th>rmse</th>\n",
       "      <th>spectral_centroid</th>\n",
       "      <th>spectral_bandwidth</th>\n",
       "      <th>rolloff</th>\n",
       "      <th>zero_crossing_rate</th>\n",
       "      <th>mfcc1</th>\n",
       "      <th>mfcc2</th>\n",
       "      <th>mfcc3</th>\n",
       "      <th>mfcc4</th>\n",
       "      <th>...</th>\n",
       "      <th>mfcc12</th>\n",
       "      <th>mfcc13</th>\n",
       "      <th>mfcc14</th>\n",
       "      <th>mfcc15</th>\n",
       "      <th>mfcc16</th>\n",
       "      <th>mfcc17</th>\n",
       "      <th>mfcc18</th>\n",
       "      <th>mfcc19</th>\n",
       "      <th>mfcc20</th>\n",
       "      <th>label</th>\n",
       "    </tr>\n",
       "  </thead>\n",
       "  <tbody>\n",
       "    <tr>\n",
       "      <th>0</th>\n",
       "      <td>0.383955</td>\n",
       "      <td>0.178037</td>\n",
       "      <td>2475.384255</td>\n",
       "      <td>2692.025039</td>\n",
       "      <td>5581.391365</td>\n",
       "      <td>0.103673</td>\n",
       "      <td>-46.365340</td>\n",
       "      <td>83.86241</td>\n",
       "      <td>7.264887</td>\n",
       "      <td>29.455942</td>\n",
       "      <td>...</td>\n",
       "      <td>-0.663498</td>\n",
       "      <td>-11.002799</td>\n",
       "      <td>-1.197551</td>\n",
       "      <td>-3.334102</td>\n",
       "      <td>-0.537420</td>\n",
       "      <td>-6.944205</td>\n",
       "      <td>-3.001334</td>\n",
       "      <td>-7.972998</td>\n",
       "      <td>-5.372086</td>\n",
       "      <td>alternative</td>\n",
       "    </tr>\n",
       "    <tr>\n",
       "      <th>1</th>\n",
       "      <td>0.402224</td>\n",
       "      <td>0.155784</td>\n",
       "      <td>2603.162978</td>\n",
       "      <td>2970.712522</td>\n",
       "      <td>6172.735793</td>\n",
       "      <td>0.098682</td>\n",
       "      <td>-104.715960</td>\n",
       "      <td>79.76266</td>\n",
       "      <td>34.896862</td>\n",
       "      <td>26.846367</td>\n",
       "      <td>...</td>\n",
       "      <td>-0.199909</td>\n",
       "      <td>-11.291385</td>\n",
       "      <td>-3.149277</td>\n",
       "      <td>-1.415129</td>\n",
       "      <td>-1.934461</td>\n",
       "      <td>-9.952145</td>\n",
       "      <td>2.418224</td>\n",
       "      <td>-14.083698</td>\n",
       "      <td>-5.242075</td>\n",
       "      <td>alternative</td>\n",
       "    </tr>\n",
       "    <tr>\n",
       "      <th>2</th>\n",
       "      <td>0.410419</td>\n",
       "      <td>0.266153</td>\n",
       "      <td>2528.395250</td>\n",
       "      <td>2581.397083</td>\n",
       "      <td>5443.013247</td>\n",
       "      <td>0.119591</td>\n",
       "      <td>11.476575</td>\n",
       "      <td>81.72015</td>\n",
       "      <td>-5.599661</td>\n",
       "      <td>33.353157</td>\n",
       "      <td>...</td>\n",
       "      <td>7.260674</td>\n",
       "      <td>-1.591810</td>\n",
       "      <td>-0.206867</td>\n",
       "      <td>-1.741824</td>\n",
       "      <td>5.232390</td>\n",
       "      <td>-7.532840</td>\n",
       "      <td>1.387093</td>\n",
       "      <td>-2.171635</td>\n",
       "      <td>0.422233</td>\n",
       "      <td>alternative</td>\n",
       "    </tr>\n",
       "    <tr>\n",
       "      <th>3</th>\n",
       "      <td>0.457951</td>\n",
       "      <td>0.148688</td>\n",
       "      <td>2525.560859</td>\n",
       "      <td>2540.915127</td>\n",
       "      <td>5459.560074</td>\n",
       "      <td>0.125657</td>\n",
       "      <td>-90.255260</td>\n",
       "      <td>75.02876</td>\n",
       "      <td>-4.430025</td>\n",
       "      <td>37.837990</td>\n",
       "      <td>...</td>\n",
       "      <td>7.583189</td>\n",
       "      <td>-2.893079</td>\n",
       "      <td>3.362226</td>\n",
       "      <td>-0.267539</td>\n",
       "      <td>-1.483779</td>\n",
       "      <td>-5.688086</td>\n",
       "      <td>0.288416</td>\n",
       "      <td>-4.855022</td>\n",
       "      <td>1.248333</td>\n",
       "      <td>alternative</td>\n",
       "    </tr>\n",
       "    <tr>\n",
       "      <th>4</th>\n",
       "      <td>0.311643</td>\n",
       "      <td>0.208481</td>\n",
       "      <td>2340.010344</td>\n",
       "      <td>2537.745447</td>\n",
       "      <td>5248.916724</td>\n",
       "      <td>0.073638</td>\n",
       "      <td>-86.119060</td>\n",
       "      <td>82.10048</td>\n",
       "      <td>-9.278212</td>\n",
       "      <td>18.671814</td>\n",
       "      <td>...</td>\n",
       "      <td>-2.292835</td>\n",
       "      <td>-12.341735</td>\n",
       "      <td>-6.247082</td>\n",
       "      <td>-13.808282</td>\n",
       "      <td>-9.181357</td>\n",
       "      <td>-7.140655</td>\n",
       "      <td>2.653370</td>\n",
       "      <td>3.366806</td>\n",
       "      <td>10.193027</td>\n",
       "      <td>alternative</td>\n",
       "    </tr>\n",
       "  </tbody>\n",
       "</table>\n",
       "<p>5 rows × 27 columns</p>\n",
       "</div>"
      ],
      "text/plain": [
       "   chroma_stft      rmse  spectral_centroid  spectral_bandwidth      rolloff  \\\n",
       "0     0.383955  0.178037        2475.384255         2692.025039  5581.391365   \n",
       "1     0.402224  0.155784        2603.162978         2970.712522  6172.735793   \n",
       "2     0.410419  0.266153        2528.395250         2581.397083  5443.013247   \n",
       "3     0.457951  0.148688        2525.560859         2540.915127  5459.560074   \n",
       "4     0.311643  0.208481        2340.010344         2537.745447  5248.916724   \n",
       "\n",
       "   zero_crossing_rate       mfcc1     mfcc2      mfcc3      mfcc4  ...  \\\n",
       "0            0.103673  -46.365340  83.86241   7.264887  29.455942  ...   \n",
       "1            0.098682 -104.715960  79.76266  34.896862  26.846367  ...   \n",
       "2            0.119591   11.476575  81.72015  -5.599661  33.353157  ...   \n",
       "3            0.125657  -90.255260  75.02876  -4.430025  37.837990  ...   \n",
       "4            0.073638  -86.119060  82.10048  -9.278212  18.671814  ...   \n",
       "\n",
       "     mfcc12     mfcc13    mfcc14     mfcc15    mfcc16    mfcc17    mfcc18  \\\n",
       "0 -0.663498 -11.002799 -1.197551  -3.334102 -0.537420 -6.944205 -3.001334   \n",
       "1 -0.199909 -11.291385 -3.149277  -1.415129 -1.934461 -9.952145  2.418224   \n",
       "2  7.260674  -1.591810 -0.206867  -1.741824  5.232390 -7.532840  1.387093   \n",
       "3  7.583189  -2.893079  3.362226  -0.267539 -1.483779 -5.688086  0.288416   \n",
       "4 -2.292835 -12.341735 -6.247082 -13.808282 -9.181357 -7.140655  2.653370   \n",
       "\n",
       "      mfcc19     mfcc20        label  \n",
       "0  -7.972998  -5.372086  alternative  \n",
       "1 -14.083698  -5.242075  alternative  \n",
       "2  -2.171635   0.422233  alternative  \n",
       "3  -4.855022   1.248333  alternative  \n",
       "4   3.366806  10.193027  alternative  \n",
       "\n",
       "[5 rows x 27 columns]"
      ]
     },
     "execution_count": 3,
     "metadata": {},
     "output_type": "execute_result"
    }
   ],
   "source": [
    "data=data.drop(['filename'],axis=1)\n",
    "data.head()"
   ]
  },
  {
   "cell_type": "code",
   "execution_count": 4,
   "metadata": {},
   "outputs": [
    {
     "name": "stdout",
     "output_type": "stream",
     "text": [
      "[[-0.21134493 -0.06652217  0.38581435 ... -1.21125477 -1.16589096\n",
      "  -1.47531748]\n",
      " [ 0.05854305 -0.38703469  0.60773809 ...  0.24597051 -2.74994733\n",
      "  -1.44234103]\n",
      " [ 0.17962161  1.20262577  0.47788287 ... -0.03128251  0.33797681\n",
      "  -0.0056214 ]\n",
      " ...\n",
      " [ 0.09818177  1.87586465  0.73204913 ...  0.49074923  0.78814667\n",
      "  -0.43491874]\n",
      " [ 0.42476415  1.44815099 -0.29054286 ...  0.48101485  0.70781831\n",
      "   0.79707011]\n",
      " [ 0.4230686   1.37840109  0.36692202 ...  0.24112804  0.05184114\n",
      "   0.00406905]]\n"
     ]
    }
   ],
   "source": [
    "genre_list = data.iloc[:,-1]\n",
    "encoder = LabelEncoder()\n",
    "y = encoder.fit_transform(genre_list)\n",
    "scalar = StandardScaler()\n",
    "x  =scalar.fit_transform(np.array(data.iloc[:,:-1],dtype = float))\n",
    "print(x)"
   ]
  },
  {
   "cell_type": "code",
   "execution_count": 5,
   "metadata": {},
   "outputs": [],
   "source": [
    "X,X_new,Y,Y_new = train_test_split(x,y,test_size=0.2,random_state=1)"
   ]
  },
  {
   "cell_type": "markdown",
   "metadata": {},
   "source": [
    "Logistic Regression using K-Fold"
   ]
  },
  {
   "cell_type": "code",
   "execution_count": 6,
   "metadata": {},
   "outputs": [],
   "source": [
    "def func(model):\n",
    "    rkf = RepeatedKFold(n_splits=24, n_repeats=2, random_state=1)\n",
    "    my_score=[]\n",
    "    for train_index, test_index in rkf.split(X):\n",
    "         X_train, X_test = X[train_index], X[test_index] \n",
    "         y_train, y_test = Y[train_index], Y[test_index]\n",
    "         model.fit(X_train,y_train)\n",
    "         my_score.append(model.score(X_test,y_test))\n",
    "    return my_score"
   ]
  },
  {
   "cell_type": "code",
   "execution_count": 10,
   "metadata": {},
   "outputs": [
    {
     "data": {
      "text/plain": [
       "Text(0, 0.5, 'accuracy')"
      ]
     },
     "execution_count": 10,
     "metadata": {},
     "output_type": "execute_result"
    },
    {
     "data": {
      "image/png": "[encoded data removed]",
      "text/plain": [
       "<Figure size 432x288 with 1 Axes>"
      ]
     },
     "metadata": {
      "needs_background": "light"
     },
     "output_type": "display_data"
    }
   ],
   "source": [
    "c = [1,5,10,50,100,500,1000,5000,10000]\n",
    "logacc=[]\n",
    "for i in c:\n",
    "    model = LogisticRegression(solver = 'liblinear',random_state=0,C=i,penalty='l2',multi_class='ovr')\n",
    "    my_score=func(model)\n",
    "    logacc.append(np.mean(my_score))\n",
    "plt.plot(c,logacc)\n",
    "plt.title(\"Change in Regularization parameter\")\n",
    "plt.xlabel(\"C\")\n",
    "plt.ylabel(\"accuracy\")"
   ]
  },
  {
   "cell_type": "code",
   "execution_count": 8,
   "metadata": {},
   "outputs": [],
   "source": [
    "model = LogisticRegression(solver = 'liblinear',random_state=0,C=1,penalty='l2',multi_class='ovr')\n",
    "my_score=func(model)"
   ]
  },
  {
   "cell_type": "code",
   "execution_count": 9,
   "metadata": {},
   "outputs": [
    {
     "name": "stdout",
     "output_type": "stream",
     "text": [
      "Accuracy of the testing set in Logistic Regression: 0.5565410199556541\n"
     ]
    }
   ],
   "source": [
    "print(\"Accuracy of the testing set in Logistic Regression:\",model.score(X_new,Y_new))"
   ]
  },
  {
   "cell_type": "code",
   "execution_count": 13,
   "metadata": {},
   "outputs": [
    {
     "name": "stdout",
     "output_type": "stream",
     "text": [
      "[0.2894736842105263, 0.2894736842105263, 0.36, 0.3466666666666667, 0.26666666666666666, 0.25333333333333335, 0.3333333333333333, 0.29333333333333333, 0.28, 0.25333333333333335, 0.28, 0.28, 0.3333333333333333, 0.36, 0.30666666666666664, 0.29333333333333333, 0.36, 0.3466666666666667, 0.30666666666666664, 0.14666666666666667, 0.4, 0.24, 0.24, 0.24, 0.32894736842105265, 0.2236842105263158, 0.26666666666666666, 0.28, 0.21333333333333335, 0.3333333333333333, 0.22666666666666666, 0.30666666666666664, 0.3333333333333333, 0.29333333333333333, 0.25333333333333335, 0.3466666666666667, 0.24, 0.22666666666666666, 0.32, 0.36, 0.3333333333333333, 0.28, 0.28, 0.36, 0.30666666666666664, 0.3466666666666667, 0.32, 0.32]\n",
      "[0.2894736842105263, 0.32894736842105265, 0.4, 0.3466666666666667, 0.28, 0.30666666666666664, 0.37333333333333335, 0.29333333333333333, 0.32, 0.28, 0.28, 0.28, 0.3333333333333333, 0.38666666666666666, 0.3333333333333333, 0.30666666666666664, 0.38666666666666666, 0.37333333333333335, 0.32, 0.18666666666666668, 0.4, 0.25333333333333335, 0.25333333333333335, 0.24, 0.32894736842105265, 0.25, 0.29333333333333333, 0.30666666666666664, 0.22666666666666666, 0.36, 0.25333333333333335, 0.32, 0.3333333333333333, 0.32, 0.30666666666666664, 0.37333333333333335, 0.26666666666666666, 0.24, 0.3466666666666667, 0.36, 0.37333333333333335, 0.29333333333333333, 0.28, 0.38666666666666666, 0.32, 0.3466666666666667, 0.3466666666666667, 0.32]\n",
      "[0.3684210526315789, 0.39473684210526316, 0.49333333333333335, 0.44, 0.37333333333333335, 0.38666666666666666, 0.44, 0.36, 0.38666666666666666, 0.3333333333333333, 0.37333333333333335, 0.38666666666666666, 0.41333333333333333, 0.56, 0.41333333333333333, 0.37333333333333335, 0.44, 0.4266666666666667, 0.36, 0.3466666666666667, 0.48, 0.38666666666666666, 0.37333333333333335, 0.32, 0.40789473684210525, 0.35526315789473684, 0.4, 0.4, 0.36, 0.41333333333333333, 0.37333333333333335, 0.4, 0.41333333333333333, 0.38666666666666666, 0.36, 0.44, 0.37333333333333335, 0.3466666666666667, 0.38666666666666666, 0.4266666666666667, 0.41333333333333333, 0.4666666666666667, 0.4266666666666667, 0.4666666666666667, 0.4, 0.36, 0.44, 0.37333333333333335]\n",
      "[0.618421052631579, 0.47368421052631576, 0.64, 0.48, 0.5466666666666666, 0.52, 0.6, 0.5733333333333334, 0.52, 0.41333333333333333, 0.44, 0.5333333333333333, 0.56, 0.5866666666666667, 0.49333333333333335, 0.52, 0.49333333333333335, 0.5333333333333333, 0.41333333333333333, 0.4533333333333333, 0.6133333333333333, 0.48, 0.52, 0.48, 0.5921052631578947, 0.42105263157894735, 0.6, 0.4666666666666667, 0.4266666666666667, 0.52, 0.5333333333333333, 0.48, 0.5466666666666666, 0.56, 0.4533333333333333, 0.6533333333333333, 0.5733333333333334, 0.5066666666666667, 0.52, 0.48, 0.56, 0.5333333333333333, 0.5333333333333333, 0.5066666666666667, 0.5733333333333334, 0.48, 0.5066666666666667, 0.5466666666666666]\n",
      "[0.631578947368421, 0.5131578947368421, 0.6, 0.52, 0.5866666666666667, 0.56, 0.5866666666666667, 0.5466666666666666, 0.52, 0.48, 0.48, 0.5333333333333333, 0.5866666666666667, 0.6133333333333333, 0.52, 0.56, 0.5466666666666666, 0.49333333333333335, 0.44, 0.52, 0.6266666666666667, 0.49333333333333335, 0.5066666666666667, 0.56, 0.5921052631578947, 0.4342105263157895, 0.6, 0.4666666666666667, 0.4533333333333333, 0.5866666666666667, 0.56, 0.48, 0.5866666666666667, 0.52, 0.48, 0.72, 0.6, 0.4266666666666667, 0.5466666666666666, 0.5466666666666666, 0.6266666666666667, 0.5733333333333334, 0.6, 0.52, 0.5466666666666666, 0.5466666666666666, 0.5066666666666667, 0.5466666666666666]\n",
      "[0.618421052631579, 0.4868421052631579, 0.6666666666666666, 0.5333333333333333, 0.5733333333333334, 0.6133333333333333, 0.56, 0.5466666666666666, 0.52, 0.52, 0.4666666666666667, 0.5333333333333333, 0.5866666666666667, 0.64, 0.5333333333333333, 0.56, 0.5466666666666666, 0.49333333333333335, 0.48, 0.5066666666666667, 0.6266666666666667, 0.49333333333333335, 0.52, 0.5866666666666667, 0.5526315789473685, 0.42105263157894735, 0.6133333333333333, 0.5066666666666667, 0.48, 0.5866666666666667, 0.56, 0.5333333333333333, 0.5733333333333334, 0.56, 0.48, 0.68, 0.56, 0.44, 0.56, 0.5333333333333333, 0.6133333333333333, 0.6, 0.6, 0.5333333333333333, 0.5466666666666666, 0.5733333333333334, 0.49333333333333335, 0.5466666666666666]\n",
      "[0.5526315789473685, 0.4868421052631579, 0.7066666666666667, 0.49333333333333335, 0.52, 0.56, 0.49333333333333335, 0.6133333333333333, 0.52, 0.44, 0.5333333333333333, 0.5066666666666667, 0.52, 0.5333333333333333, 0.5066666666666667, 0.5866666666666667, 0.5733333333333334, 0.48, 0.5066666666666667, 0.48, 0.6, 0.48, 0.48, 0.5466666666666666, 0.5657894736842105, 0.40789473684210525, 0.5866666666666667, 0.4266666666666667, 0.4666666666666667, 0.6, 0.5866666666666667, 0.52, 0.6133333333333333, 0.5466666666666666, 0.4, 0.6666666666666666, 0.5466666666666666, 0.4533333333333333, 0.5066666666666667, 0.52, 0.5466666666666666, 0.6, 0.5466666666666666, 0.52, 0.56, 0.5466666666666666, 0.49333333333333335, 0.52]\n",
      "[0.5526315789473685, 0.5131578947368421, 0.72, 0.52, 0.5066666666666667, 0.56, 0.49333333333333335, 0.5866666666666667, 0.49333333333333335, 0.48, 0.5333333333333333, 0.48, 0.5066666666666667, 0.5733333333333334, 0.5333333333333333, 0.5333333333333333, 0.56, 0.48, 0.48, 0.49333333333333335, 0.6133333333333333, 0.4266666666666667, 0.49333333333333335, 0.49333333333333335, 0.5526315789473685, 0.39473684210526316, 0.56, 0.4266666666666667, 0.48, 0.5733333333333334, 0.56, 0.52, 0.5866666666666667, 0.5733333333333334, 0.4266666666666667, 0.6266666666666667, 0.5066666666666667, 0.44, 0.49333333333333335, 0.5466666666666666, 0.5333333333333333, 0.5733333333333334, 0.5333333333333333, 0.5066666666666667, 0.5866666666666667, 0.5466666666666666, 0.5066666666666667, 0.5066666666666667]\n",
      "[0.5789473684210527, 0.5, 0.7066666666666667, 0.52, 0.5466666666666666, 0.5466666666666666, 0.49333333333333335, 0.5866666666666667, 0.48, 0.48, 0.5066666666666667, 0.52, 0.49333333333333335, 0.56, 0.56, 0.5466666666666666, 0.5466666666666666, 0.4666666666666667, 0.4666666666666667, 0.49333333333333335, 0.6, 0.41333333333333333, 0.44, 0.52, 0.5526315789473685, 0.42105263157894735, 0.56, 0.41333333333333333, 0.4666666666666667, 0.5333333333333333, 0.5333333333333333, 0.5333333333333333, 0.56, 0.56, 0.4533333333333333, 0.6266666666666667, 0.49333333333333335, 0.41333333333333333, 0.49333333333333335, 0.5066666666666667, 0.5333333333333333, 0.56, 0.56, 0.4533333333333333, 0.5866666666666667, 0.56, 0.5466666666666666, 0.48]\n",
      "[0.5789473684210527, 0.5, 0.7066666666666667, 0.52, 0.5466666666666666, 0.5466666666666666, 0.49333333333333335, 0.5866666666666667, 0.48, 0.48, 0.5066666666666667, 0.52, 0.49333333333333335, 0.56, 0.56, 0.5466666666666666, 0.5466666666666666, 0.4666666666666667, 0.4666666666666667, 0.49333333333333335, 0.6, 0.41333333333333333, 0.44, 0.52, 0.5526315789473685, 0.42105263157894735, 0.56, 0.41333333333333333, 0.4666666666666667, 0.5333333333333333, 0.5333333333333333, 0.5333333333333333, 0.56, 0.56, 0.4533333333333333, 0.6266666666666667, 0.49333333333333335, 0.41333333333333333, 0.49333333333333335, 0.5066666666666667, 0.5333333333333333, 0.56, 0.56, 0.4533333333333333, 0.5733333333333334, 0.56, 0.5466666666666666, 0.48]\n"
     ]
    },
    {
     "data": {
      "text/plain": [
       "Text(0, 0.5, 'accuracy')"
      ]
     },
     "execution_count": 13,
     "metadata": {},
     "output_type": "execute_result"
    },
    {
     "data": {
      "image/png": "[encoded data removed]",
      "text/plain": [
       "<Figure size 432x288 with 1 Axes>"
      ]
     },
     "metadata": {
      "needs_background": "light"
     },
     "output_type": "display_data"
    }
   ],
   "source": [
    "c = [0.001,0.01,0.1,1,5,10,50,100,500,1000]\n",
    "svmacc=[]\n",
    "for i in c:\n",
    "    clf = svm.SVC(kernel = 'poly',C=i)\n",
    "    my_score=logistfunc(clf)\n",
    "    svmacc.append(np.mean(my_score))\n",
    "    print(my_score)\n",
    "plt.plot(c,svmacc)\n",
    "plt.title(\"Change in Regularization parameter\")\n",
    "plt.xlabel(\"C\")\n",
    "plt.ylabel(\"accuracy\")"
   ]
  },
  {
   "cell_type": "code",
   "execution_count": 20,
   "metadata": {},
   "outputs": [
    {
     "name": "stdout",
     "output_type": "stream",
     "text": [
      "Accuracy of the testing set in SVM: 0.5609756097560976\n"
     ]
    }
   ],
   "source": [
    "clf = svm.SVC(kernel = 'poly',C=11)\n",
    "func(clf)\n",
    "print(\"Accuracy of the testing set in SVM:\",clf.score(X_new,Y_new))"
   ]
  },
  {
   "cell_type": "markdown",
   "metadata": {},
   "source": [
    "KNN"
   ]
  },
  {
   "cell_type": "code",
   "execution_count": 7,
   "metadata": {},
   "outputs": [],
   "source": [
    "import math\n",
    "def edist(x1,x2):\n",
    "    dist = 0.0\n",
    "    for i in range(len(x1)-1):\n",
    "        dist+=(x1[i]-x2[i])**2\n",
    "    return math.sqrt(dist)"
   ]
  },
  {
   "cell_type": "code",
   "execution_count": 8,
   "metadata": {},
   "outputs": [],
   "source": [
    "def get_neighbour(train,test_row, k):\n",
    "    distance = list()\n",
    "    for row in train:\n",
    "        dist = edist(row[0],test_row)\n",
    "        distance.append((row,dist))\n",
    "    distance.sort(key=lambda tup:tup[1])\n",
    "    neighbour = list()\n",
    "    for i in range(k):\n",
    "        neighbour.append(distance[i][0][1])\n",
    "    return neighbour"
   ]
  },
  {
   "cell_type": "code",
   "execution_count": 9,
   "metadata": {},
   "outputs": [],
   "source": [
    "def predict(train,test_row,k):\n",
    "    neighbours = get_neighbour(train,test_row,k)\n",
    "    pred = max(set(neighbours),key = neighbours.count)\n",
    "    return pred"
   ]
  },
  {
   "cell_type": "code",
   "execution_count": 10,
   "metadata": {},
   "outputs": [],
   "source": [
    "kx = list()\n",
    "i=0\n",
    "for row in X:\n",
    "    kx.append((row,Y[i]))\n",
    "    i+=1\n",
    "y_pred2 = []\n",
    "for row in X_new:\n",
    "    y_pred2.append(predict(kx,row,25))"
   ]
  },
  {
   "cell_type": "code",
   "execution_count": 11,
   "metadata": {},
   "outputs": [
    {
     "name": "stdout",
     "output_type": "stream",
     "text": [
      "Accuracy of the testing set in knn: 0.5055432372505543\n"
     ]
    }
   ],
   "source": [
    "from sklearn.metrics import accuracy_score\n",
    "print(\"Accuracy of the testing set in knn:\",accuracy_score(y_pred2, Y_new))"
   ]
  },
  {
   "cell_type": "code",
   "execution_count": 12,
   "metadata": {},
   "outputs": [
    {
     "data": {
      "image/png": "[encoded data removed]",
      "text/plain": [
       "<Figure size 432x288 with 1 Axes>"
      ]
     },
     "metadata": {
      "needs_background": "light"
     },
     "output_type": "display_data"
    }
   ],
   "source": [
    "data = {'KNN':0.505, 'LR':0.556, 'SVM':0.56} \n",
    "courses = list(data.keys()) \n",
    "values = list(data.values()) \n",
    "plt.bar(courses, values, \n",
    "        width = 0.4) \n",
    "  \n",
    "plt.xlabel(\"Algorithms Implemented\") \n",
    "plt.ylabel(\"Accuracy\") \n",
    "plt.title(\"Comparision of Algorithms\") \n",
    "plt.show() "
   ]
  },
  {
   "cell_type": "code",
   "execution_count": 13,
   "metadata": {},
   "outputs": [],
   "source": [
    "k = [1,3,5,7,9]\n",
    "accuracy=[]\n",
    "for i in k:\n",
    "    y_pred3=[]\n",
    "    for row in X_new:\n",
    "        y_pred3.append(predict(kx,row,i))\n",
    "    accuracy.append(accuracy_score(y_pred3, Y_new))"
   ]
  },
  {
   "cell_type": "code",
   "execution_count": 14,
   "metadata": {},
   "outputs": [
    {
     "data": {
      "text/plain": [
       "Text(0, 0.5, 'accuracy')"
      ]
     },
     "execution_count": 14,
     "metadata": {},
     "output_type": "execute_result"
    },
    {
     "data": {
      "image/png": "[encoded data removed]",
      "text/plain": [
       "<Figure size 432x288 with 1 Axes>"
      ]
     },
     "metadata": {
      "needs_background": "light"
     },
     "output_type": "display_data"
    }
   ],
   "source": [
    "plt.plot(k,accuracy)\n",
    "plt.title(\"Different values of k\")\n",
    "plt.xlabel(\"k\")\n",
    "plt.ylabel(\"accuracy\")"
   ]
  },
  {
   "cell_type": "code",
   "execution_count": 31,
   "metadata": {},
   "outputs": [],
   "source": [
    "from sklearn.cluster import KMeans\n",
    "from sklearn.metrics import silhouette_score\n",
    "wcss=[]\n",
    "sil=[]\n",
    "for i in range(2,30):\n",
    "    clf=KMeans(n_clusters=i,init='k-means++',random_state=64)\n",
    "    \n",
    "    clf.fit(X)\n",
    "    labels=clf.labels_\n",
    "    centroids=clf.cluster_centers_\n",
    "    sil.append(silhouette_score(X, labels, metric='euclidean'))\n",
    "    wcss.append(clf.inertia_)"
   ]
  },
  {
   "cell_type": "code",
   "execution_count": 38,
   "metadata": {},
   "outputs": [
    {
     "name": "stdout",
     "output_type": "stream",
     "text": [
      "[0.1722751201133458, 0.10170430445519998, 0.08839338060094719, 0.07247686765246199, 0.08211715484573456, 0.06551354019636088, 0.07145220525059297, 0.06714955401175479, 0.06477946867457969, 0.05509450178989011, 0.06617517682129712, 0.05591240235165623, 0.05377844806427834, 0.05433976553011466, 0.05577481705893832, 0.045299108384732646, 0.04767115550688911, 0.0507100259037329, 0.042839176084763286, 0.04553954735985445, 0.03899065570215551, 0.04641767708106802, 0.04731103261001663, 0.04523296672248506, 0.044205703788455813, 0.04731691015148878, 0.039581526423764134, 0.045012819994184404]\n",
      "[39155.09661828336, 36305.47607830001, 34164.05056444683, 32926.33983160903, 31795.82520552614, 30844.457858035123, 30040.213225866417, 29413.42451915546, 28913.256783434193, 28507.619047191067, 28109.35579425638, 27720.409395776318, 27402.146831040358, 27120.236117713255, 26829.275396008845, 26582.56840113571, 26306.60951632144, 26114.263565075722, 26016.241642884765, 25718.370249908123, 25539.763868394, 25425.509872235914, 25267.459211581143, 25059.734387526274, 24879.553845582508, 24737.891817928103, 24657.956046842042, 24473.933201647942]\n"
     ]
    }
   ],
   "source": [
    "print(sil)\n",
    "print(wcss)\n"
   ]
  },
  {
   "cell_type": "code",
   "execution_count": 36,
   "metadata": {},
   "outputs": [
    {
     "data": {
      "text/plain": [
       "<pyclustering.cluster.kmedoids.kmedoids at 0x7fdc345514a8>"
      ]
     },
     "execution_count": 36,
     "metadata": {},
     "output_type": "execute_result"
    }
   ],
   "source": [
    "from sklearn_extra.cluster import KMedoids\n",
    "from pyclustering.cluster.kmedoids import kmedoids\n",
    "initial_medoids = [1, 2 ,3, 4, 5, 6, 7, 8, 9]\n",
    "kmedoid = KMedoids(n_clusters=9).fit(x)\n",
    "kmedoids_instance = kmedoids(x, initial_medoids)\n",
    "kmedoids_instance.process()"
   ]
  },
  {
   "cell_type": "code",
   "execution_count": 37,
   "metadata": {},
   "outputs": [
    {
     "name": "stdout",
     "output_type": "stream",
     "text": [
      "[4 3 8 4 1 1 4 4 2 4 8 5 1 5 2 2 1 1 8 1 1 2 2 2 7 8 2 2 0 5 2 1 8 5 4 5 2\n",
      " 4 1 8 1 1 0 7 4 5 8 0 0 5 2 4 1 4 2 1 6 2 5 2 4 4 2 2 5 5 2 2 1 2 8 0 0 1\n",
      " 1 4 1 4 5 0 1 1 6 2 2 1 5 2 1 2 1 1 1 1 2 1 0 2 1 2 4 8 2 0 6 2 2 8 1 2 2\n",
      " 1 1 4 0 4 0 5 1 4 1 5 2 4 1 3 1 1 1 8 8 4 1 8 1 2 2 2 4 1 2 1 2 4 4 4 1 1\n",
      " 1 6 4 1 2 1 1 2 1 6 1 2 2 0 1 1 4 4 6 1 2 4 2 1 2 2 2 5 5 1 4 2 5 1 1 1 5\n",
      " 6 5 1 8 1 1 1 1 3 6 2 1 8 1 8 1 1 4 4 2 1 1 2 4 6 1 1 2 1 2 4 1 5 1 2 2 5\n",
      " 4 4 2 1 1 6 4 2 2 1 4 1 1 4 4 1 6 4 4 2 2 8 2 8 2 5 2 2 1 2 2 2 4 7 2 2 2\n",
      " 8 0 4 5 2 2 2 5 2 2 3 2 1 4 5 6 5 2 1 1 1 1 2 8 6 6 1 1 8 8 1 1 4 2 2 4 2\n",
      " 1 5 2 4 1 4 1 1 1 1 1 4 6 1 1 5 2 2 1 1 1 1 1 1 1 4 1 4 1 8 5 1 5 1 6 5 1\n",
      " 5 4 4 1 0 2 1 2 1 1 4 2 1 2 1 1 1 1 2 1 0 1 2 2 3 1 5 2 2 2 1 2 7 2 1 5 1\n",
      " 1 3 1 4 1 1 1 2 5 5 8 1 2 1 1 4 1 2 2 2 1 2 2 1 4 5 1 1 2 1 2 1 6 1 5 2 5\n",
      " 4 2 1 4 4 2 1 1 2 1 4 2 1 1 4 6 3 4 1 2 2 5 1 2 2 1 2 2 4 2 1 1 2 8 1 8 3\n",
      " 2 8 1 2 2 3 1]\n"
     ]
    }
   ],
   "source": [
    "closest_clusters = kmedoids_instance.predict(X_new)\n",
    "print(closest_clusters)"
   ]
  },
  {
   "cell_type": "code",
   "execution_count": 41,
   "metadata": {},
   "outputs": [
    {
     "data": {
      "text/plain": [
       "Text(0.5, 1.0, 'Silhouette Score Method')"
      ]
     },
     "execution_count": 41,
     "metadata": {},
     "output_type": "execute_result"
    },
    {
     "data": {
      "image/png": "[encoded data removed]",
      "text/plain": [
       "<Figure size 1152x360 with 2 Axes>"
      ]
     },
     "metadata": {
      "needs_background": "light"
     },
     "output_type": "display_data"
    }
   ],
   "source": [
    "fig, (ax1, ax2) = plt.subplots(1, 2,figsize=(16,5))\n",
    "x=np.arange(2,30)\n",
    "ax1.plot(x,wcss,marker='o')\n",
    "ax1.set_xlabel(\"Number of Clusters\")\n",
    "ax1.set_ylabel(\"Within Cluster Sum of Squares (WCSS)\")\n",
    "ax1.set_title(\"Elbow Method\")\n",
    "x=np.arange(2,30)\n",
    "ax2.plot(x,sil,marker='o')\n",
    "ax2.set_xlabel(\"Number of Clusters\")\n",
    "ax2.set_ylabel(\"Silhouette Score\")\n",
    "ax2.set_title(\"Silhouette Score Method\")"
   ]
  }
 ],
 "metadata": {
  "kernelspec": {
   "display_name": "Python 3",
   "language": "python",
   "name": "python3"
  },
  "language_info": {
   "codemirror_mode": {
    "name": "ipython",
    "version": 3
   },
   "file_extension": ".py",
   "mimetype": "text/x-python",
   "name": "python",
   "nbconvert_exporter": "python",
   "pygments_lexer": "ipython3",
   "version": "3.5.2"
  }
 },
 "nbformat": 4,
 "nbformat_minor": 4
}
